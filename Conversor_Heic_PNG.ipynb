{
  "nbformat": 4,
  "nbformat_minor": 0,
  "metadata": {
    "colab": {
      "provenance": []
    },
    "kernelspec": {
      "name": "python3",
      "display_name": "Python 3"
    },
    "language_info": {
      "name": "python"
    }
  },
  "cells": [
    {
      "cell_type": "code",
      "metadata": {
        "colab": {
          "base_uri": "https://localhost:8080/"
        },
        "id": "tML00JQO1Fuv",
        "outputId": "610ffeb5-880b-4a04-c688-fea7380784a4"
      },
      "source": [
        "pip install pyheif"
      ],
      "execution_count": 6,
      "outputs": [
        {
          "output_type": "stream",
          "name": "stdout",
          "text": [
            "Collecting pyheif\n",
            "  Downloading pyheif-0.8.0-cp310-cp310-manylinux_2_17_x86_64.manylinux2014_x86_64.whl.metadata (4.7 kB)\n",
            "Requirement already satisfied: cffi>=1.0.0 in /usr/local/lib/python3.10/dist-packages (from pyheif) (1.17.1)\n",
            "Requirement already satisfied: pycparser in /usr/local/lib/python3.10/dist-packages (from cffi>=1.0.0->pyheif) (2.22)\n",
            "Downloading pyheif-0.8.0-cp310-cp310-manylinux_2_17_x86_64.manylinux2014_x86_64.whl (5.3 MB)\n",
            "\u001b[2K   \u001b[90m━━━━━━━━━━━━━━━━━━━━━━━━━━━━━━━━━━━━━━━━\u001b[0m \u001b[32m5.3/5.3 MB\u001b[0m \u001b[31m51.3 MB/s\u001b[0m eta \u001b[36m0:00:00\u001b[0m\n",
            "\u001b[?25hInstalling collected packages: pyheif\n",
            "Successfully installed pyheif-0.8.0\n"
          ]
        }
      ]
    },
    {
      "cell_type": "code",
      "metadata": {
        "id": "55mjWn3lpdKf"
      },
      "source": [
        "from glob import glob\n",
        "from PIL import Image\n",
        "import pyheif"
      ],
      "execution_count": 7,
      "outputs": []
    },
    {
      "cell_type": "code",
      "metadata": {
        "id": "3HkIqe690iFA"
      },
      "source": [
        "input_dir = '/content/drive/MyDrive/convert_HEIF_TO_PNG/*.HEIC'\n",
        "output_dir = \"/content/drive/MyDrive/converted_HEIF_TO_PNG/\"\n",
        "count = 1\n",
        "\n",
        "for file_path in glob(input_dir):\n",
        "    heif_file = pyheif.read(file_path)\n",
        "\n",
        "    image = Image.frombytes(\n",
        "        heif_file.mode,\n",
        "        heif_file.size,\n",
        "        heif_file.data,\n",
        "        \"raw\",\n",
        "        heif_file.mode,\n",
        "        heif_file.stride,\n",
        "      )\n",
        "\n",
        "    image.save(output_dir + str(count) + '.png', 'PNG')\n",
        "\n",
        "    print(f'Image {count} converted!')\n",
        "    count += 1"
      ],
      "execution_count": 13,
      "outputs": []
    }
  ]
}